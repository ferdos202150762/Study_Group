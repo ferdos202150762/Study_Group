{
  "cells": [
    {
      "cell_type": "markdown",
      "metadata": {
        "id": "view-in-github",
        "colab_type": "text"
      },
      "source": [
        "<a href=\"https://colab.research.google.com/github/OreoKitkat/Study_Group/blob/main/sb3_vecenv_tutorial_2.ipynb\" target=\"_parent\"><img src=\"https://colab.research.google.com/assets/colab-badge.svg\" alt=\"Open In Colab\"/></a>"
      ]
    },
    {
      "cell_type": "markdown",
      "metadata": {
        "id": "qAt-QWC-7vm_"
      },
      "source": [
        "# 🚀 Vector Environments in Stable Baselines3\n",
        "\n",
        "## Overview\n",
        "\n",
        "This tutorial provides an in-depth analysis of vectorized environments in reinforcement learning, focusing on:\n",
        "- **Three ways to create vectorized environments**:\n",
        "  1. `make_vec_env()` - The recommended wrapper function with automatic seed management\n",
        "  2. `DummyVecEnv([lambda: ...])` - Manual creation without seed control\n",
        "  3. Custom factory functions - Full control over seeding and initialization\n",
        "- Performance characteristics and trade-offs\n",
        "- Implementation differences between DummyVecEnv and SubprocVecEnv\n",
        "- Algorithm-specific benefits\n",
        "- Connections to multi-agent RL (MARL)\n",
        "\n",
        "**Target Audience**: Graduate researchers with RL background  \n",
        "**Based on**: [Official SB3 Multiprocessing Tutorial](https://colab.research.google.com/github/araffin/rl-tutorial-jnrr19/blob/sb3/3_multiprocessing.ipynb)"
      ]
    },
    {
      "cell_type": "markdown",
      "metadata": {
        "id": "LgIRSuEf7vnB"
      },
      "source": [
        "## 📦 Installation and Setup"
      ]
    },
    {
      "cell_type": "code",
      "execution_count": 1,
      "metadata": {
        "colab": {
          "base_uri": "https://localhost:8080/"
        },
        "id": "UcjhE-oH7vnB",
        "outputId": "b15cd3a6-7d46-441c-f82c-9b3c5b23eae4"
      },
      "outputs": [
        {
          "output_type": "stream",
          "name": "stdout",
          "text": [
            "\u001b[2K   \u001b[90m━━━━━━━━━━━━━━━━━━━━━━━━━━━━━━━━━━━━━━━━\u001b[0m \u001b[32m965.4/965.4 kB\u001b[0m \u001b[31m25.0 MB/s\u001b[0m eta \u001b[36m0:00:00\u001b[0m\n",
            "\u001b[2K   \u001b[90m━━━━━━━━━━━━━━━━━━━━━━━━━━━━━━━━━━━━━━━━\u001b[0m \u001b[32m363.4/363.4 MB\u001b[0m \u001b[31m4.7 MB/s\u001b[0m eta \u001b[36m0:00:00\u001b[0m\n",
            "\u001b[2K   \u001b[90m━━━━━━━━━━━━━━━━━━━━━━━━━━━━━━━━━━━━━━━━\u001b[0m \u001b[32m13.8/13.8 MB\u001b[0m \u001b[31m62.7 MB/s\u001b[0m eta \u001b[36m0:00:00\u001b[0m\n",
            "\u001b[2K   \u001b[90m━━━━━━━━━━━━━━━━━━━━━━━━━━━━━━━━━━━━━━━━\u001b[0m \u001b[32m24.6/24.6 MB\u001b[0m \u001b[31m30.4 MB/s\u001b[0m eta \u001b[36m0:00:00\u001b[0m\n",
            "\u001b[2K   \u001b[90m━━━━━━━━━━━━━━━━━━━━━━━━━━━━━━━━━━━━━━━━\u001b[0m \u001b[32m883.7/883.7 kB\u001b[0m \u001b[31m33.9 MB/s\u001b[0m eta \u001b[36m0:00:00\u001b[0m\n",
            "\u001b[2K   \u001b[90m━━━━━━━━━━━━━━━━━━━━━━━━━━━━━━━━━━━━━━━━\u001b[0m \u001b[32m664.8/664.8 MB\u001b[0m \u001b[31m2.9 MB/s\u001b[0m eta \u001b[36m0:00:00\u001b[0m\n",
            "\u001b[2K   \u001b[90m━━━━━━━━━━━━━━━━━━━━━━━━━━━━━━━━━━━━━━━━\u001b[0m \u001b[32m211.5/211.5 MB\u001b[0m \u001b[31m5.8 MB/s\u001b[0m eta \u001b[36m0:00:00\u001b[0m\n",
            "\u001b[2K   \u001b[90m━━━━━━━━━━━━━━━━━━━━━━━━━━━━━━━━━━━━━━━━\u001b[0m \u001b[32m56.3/56.3 MB\u001b[0m \u001b[31m10.9 MB/s\u001b[0m eta \u001b[36m0:00:00\u001b[0m\n",
            "\u001b[2K   \u001b[90m━━━━━━━━━━━━━━━━━━━━━━━━━━━━━━━━━━━━━━━━\u001b[0m \u001b[32m127.9/127.9 MB\u001b[0m \u001b[31m7.3 MB/s\u001b[0m eta \u001b[36m0:00:00\u001b[0m\n",
            "\u001b[2K   \u001b[90m━━━━━━━━━━━━━━━━━━━━━━━━━━━━━━━━━━━━━━━━\u001b[0m \u001b[32m207.5/207.5 MB\u001b[0m \u001b[31m6.0 MB/s\u001b[0m eta \u001b[36m0:00:00\u001b[0m\n",
            "\u001b[2K   \u001b[90m━━━━━━━━━━━━━━━━━━━━━━━━━━━━━━━━━━━━━━━━\u001b[0m \u001b[32m21.1/21.1 MB\u001b[0m \u001b[31m83.4 MB/s\u001b[0m eta \u001b[36m0:00:00\u001b[0m\n",
            "\u001b[2K   \u001b[90m━━━━━━━━━━━━━━━━━━━━━━━━━━━━━━━━━━━━━━━━\u001b[0m \u001b[32m184.5/184.5 kB\u001b[0m \u001b[31m13.1 MB/s\u001b[0m eta \u001b[36m0:00:00\u001b[0m\n",
            "\u001b[2K   \u001b[90m━━━━━━━━━━━━━━━━━━━━━━━━━━━━━━━━━━━━━━━━\u001b[0m \u001b[32m92.8/92.8 kB\u001b[0m \u001b[31m6.7 MB/s\u001b[0m eta \u001b[36m0:00:00\u001b[0m\n",
            "\u001b[?25h✅ Packages installed successfully\n"
          ]
        }
      ],
      "source": [
        "# Install required packages\n",
        "!pip install stable-baselines3[extra] gymnasium matplotlib numpy -q\n",
        "!pip install sb3-contrib -q  # For TRPO algorithm\n",
        "!pip install torch -q  # For QMIX demonstration\n",
        "\n",
        "print(\"✅ Packages installed successfully\")"
      ]
    },
    {
      "cell_type": "code",
      "execution_count": 2,
      "metadata": {
        "colab": {
          "base_uri": "https://localhost:8080/"
        },
        "id": "u-HBSvhd7vnC",
        "outputId": "e8bc547b-42fe-4f96-e056-fdd5e8729b8d"
      },
      "outputs": [
        {
          "output_type": "stream",
          "name": "stdout",
          "text": [
            "✅ sb3-contrib available - TRPO can be tested\n"
          ]
        }
      ],
      "source": [
        "# Import all required libraries\n",
        "import time\n",
        "import numpy as np\n",
        "import matplotlib.pyplot as plt\n",
        "import gymnasium as gym\n",
        "from stable_baselines3 import A2C, PPO, DQN, SAC\n",
        "from stable_baselines3.common.vec_env import DummyVecEnv, SubprocVecEnv\n",
        "from stable_baselines3.common.env_util import make_vec_env\n",
        "from stable_baselines3.common.utils import set_random_seed\n",
        "from stable_baselines3.common.evaluation import evaluate_policy\n",
        "\n",
        "# Try importing additional algorithms\n",
        "try:\n",
        "    from sb3_contrib import TRPO\n",
        "    HAS_CONTRIB = True\n",
        "    print(\"✅ sb3-contrib available - TRPO can be tested\")\n",
        "except:\n",
        "    HAS_CONTRIB = False\n",
        "    print(\"ℹ️  sb3-contrib not available - TRPO will be skipped\")"
      ]
    },
    {
      "cell_type": "markdown",
      "metadata": {
        "id": "o1xuslUn7vnD"
      },
      "source": [
        "## 🎯 Opening Hook: The Speed Difference\n",
        "\n",
        "Let's start with a practical demonstration of why vectorized environments matter.\n",
        "\n",
        "### 🌟 Most Important Takeaway\n",
        "**If you remember only one thing from this tutorial:**  \n",
        "Use `make_vec_env()` - it's the easiest way to create vectorized environments with proper seed management!\n",
        "\n",
        "\n",
        "```python\n",
        "# Instead of this:\n",
        "env = gym.make(\"CartPole-v1\")\n",
        "\n",
        "# Use this:\n",
        "vec_env = make_vec_env(\"CartPole-v1\", n_envs=4, seed=42)\n",
        "```\n",
        "\n",
        "\n",
        "\n",
        "We will be using the Cartpole environment: [https://gym.openai.com/envs/CartPole-v1/](https://gym.openai.com/envs/CartPole-v1/)\n",
        "\n",
        "![Cartpole](https://cdn-images-1.medium.com/max/1143/1*h4WTQNVIsvMXJTCpXm_TAw.gif)\n",
        "\n"
      ]
    },
    {
      "cell_type": "code",
      "execution_count": 3,
      "metadata": {
        "colab": {
          "base_uri": "https://localhost:8080/"
        },
        "id": "UKAfeSN27vnE",
        "outputId": "afa7be68-c1fa-4217-a120-7e43096782ae"
      },
      "outputs": [
        {
          "output_type": "stream",
          "name": "stdout",
          "text": [
            "🏁 Vector Environment Speedup Demo\n",
            "==================================================\n",
            "\n",
            "📊 Results:\n",
            "  Single environment: 9.51s\n",
            "  4 environments:     2.38s\n",
            "  Speedup:            3.99x\n",
            "\n",
            "✅ Created with make_vec_env - automatic seed management included!\n"
          ]
        }
      ],
      "source": [
        "# Quick demonstration of speedup\n",
        "print(\"🏁 Vector Environment Speedup Demo\")\n",
        "print(\"=\" * 50)\n",
        "\n",
        "# Single environment\n",
        "env = gym.make(\"CartPole-v1\")\n",
        "\n",
        "# Vectorized environment using make_vec_env (recommended approach!)\n",
        "# Note: make_vec_env automatically handles seed management by adding rank to base seed\n",
        "vec_env = make_vec_env(\"CartPole-v1\", n_envs=4, seed=42)\n",
        "\n",
        "# Single env timing\n",
        "model = A2C(\"MlpPolicy\", env, verbose=0)\n",
        "start = time.time()\n",
        "model.learn(5000)\n",
        "single_time = time.time() - start\n",
        "\n",
        "# Vector env timing\n",
        "model = A2C(\"MlpPolicy\", vec_env, verbose=0)\n",
        "start = time.time()\n",
        "model.learn(5000)\n",
        "vec_time = time.time() - start\n",
        "\n",
        "print(f\"\\n📊 Results:\")\n",
        "print(f\"  Single environment: {single_time:.2f}s\")\n",
        "print(f\"  4 environments:     {vec_time:.2f}s\")\n",
        "print(f\"  Speedup:            {single_time/vec_time:.2f}x\")\n",
        "print(f\"\\n✅ Created with make_vec_env - automatic seed management included!\")\n",
        "\n",
        "# Always close environments to free resources\n",
        "env.close()\n",
        "vec_env.close()"
      ]
    },
    {
      "cell_type": "markdown",
      "metadata": {
        "id": "UDeLdn1n7vnE"
      },
      "source": [
        "## 🔍 DummyVecEnv vs SubprocVecEnv: Internal Mechanics\n",
        "\n",
        "### Method 2: Manual Creation with DummyVecEnv or SubprocVecEnv\n",
        "\n",
        "The second way to create vectorized environments is using `DummyVecEnv(env_fns)` or `SubprocVecEnv(env_fns)` directly, where `env_fns: (list[Callable[[], Env]])` is a list of functions that return environments to vectorize:\n",
        "\n",
        "```python\n",
        "# Manual creation - NO automatic seed management!\n",
        "vec_env = DummyVecEnv([lambda: gym.make(\"CartPole-v1\") for _ in range(4)])\n",
        "# vec_env = SubprocVecEnv([lambda: gym.make(\"CartPole-v1\") for _ in range(4)])\n",
        "```\n",
        "\n",
        "⚠️ **Important**: This approach does NOT handle seeds automatically!\n",
        "- Environments use uncontrolled random initialization\n",
        "- No guarantee of diverse initial states between environments\n",
        "- Results are not reproducible across runs\n",
        "- Environments might share the global random state, leading to correlated randomness\n",
        "\n"
      ]
    },
    {
      "cell_type": "markdown",
      "metadata": {
        "id": "Ub0OLcmKDlmL"
      },
      "source": []
    },
    {
      "cell_type": "markdown",
      "metadata": {
        "id": "dmxxliV17vnF"
      },
      "source": [
        "### Internal Implementation Differences\n",
        "\n",
        "#### 📘 DummyVecEnv - Truly Sequential\n",
        "- Runs in the **main process** on a **single thread**\n",
        "- **Sequential execution** (from SB3 source code):\n",
        "  ```python\n",
        "  # Simplified from stable_baselines3/common/vec_env/dummy_vec_env.py\n",
        "  def step(self, actions):\n",
        "      for i in range(self.num_envs):\n",
        "          obs, reward, done, info = self.envs[i].step(actions[i])\n",
        "          # Process results sequentially\n",
        "      return obs_list, reward_list, done_list, info_list\n",
        "  ```\n",
        "- **No parallelism**: Environments execute one after another, not simultaneously\n",
        "- **CPU utilization**: Uses only one CPU core, no matter how many environments\n",
        "- Simple and debuggable\n",
        "- Best for lightweight environments\n",
        "- **Closing**: Less critical, mainly frees memory and rendering resources\n",
        "\n",
        "#### 📙 SubprocVecEnv - True Parallelism\n",
        "- Each environment runs in a **separate OS process**\n",
        "- **Parallel execution** (from SB3 source code):\n",
        "  ```python\n",
        "  # Simplified from stable_baselines3/common/vec_env/subproc_vec_env.py\n",
        "  def step(self, actions):\n",
        "      # Send actions to all processes simultaneously\n",
        "      for pipe, action in zip(self.remotes, actions):\n",
        "          pipe.send(('step', action))  # Non-blocking\n",
        "      \n",
        "      # Wait for all processes to complete (blocking)\n",
        "      results = [pipe.recv() for pipe in self.remotes]\n",
        "      return results\n",
        "  ```\n",
        "- **True parallelism**: Each process can run on different CPU cores\n",
        "- **CPU utilization**: Can use multiple CPU cores effectively\n",
        "- Communication overhead via pipes\n",
        "- Best for computationally expensive environments\n",
        "- **Closing**: CRITICAL! Must terminate spawned processes to prevent zombies"
      ]
    },
    {
      "cell_type": "markdown",
      "metadata": {
        "id": "CgUT9wVh7vnG"
      },
      "source": [
        "\n",
        "\n",
        "\n",
        "### 🤔 Question for the audience:\n",
        "**'Which do you think is faster for CartPole: DummyVecEnv or SubprocVecEnv?'**\n",
        "\n",
        "Let's find out empirically:"
      ]
    },
    {
      "cell_type": "code",
      "execution_count": 4,
      "metadata": {
        "colab": {
          "base_uri": "https://localhost:8080/"
        },
        "id": "l5oePdl27vnG",
        "outputId": "1e9cb474-a19c-4c47-8c1e-2656a0f8431d"
      },
      "outputs": [
        {
          "output_type": "stream",
          "name": "stdout",
          "text": [
            "⏱️  Timing 1000 steps with 4 environments:\n",
            "  DummyVecEnv:   0.134s\n",
            "  SubprocVecEnv: 0.984s\n",
            "\n",
            "🎯 Winner for CartPole: DummyVecEnv!\n",
            "\n",
            "💡 Why? CartPole is too simple - communication overhead > computation time!\n"
          ]
        }
      ],
      "source": [
        "# Timing comparison\n",
        "def time_env_step(env_class, n_envs=4, n_steps=1000):\n",
        "    \"\"\"Time the step function overhead\"\"\"\n",
        "    if env_class == DummyVecEnv:\n",
        "        env = DummyVecEnv([lambda: gym.make(\"CartPole-v1\") for _ in range(n_envs)])\n",
        "    else:\n",
        "        env = SubprocVecEnv([lambda: gym.make(\"CartPole-v1\") for _ in range(n_envs)],\n",
        "                            start_method='spawn')\n",
        "\n",
        "    env.reset()\n",
        "    start = time.time()\n",
        "\n",
        "    for _ in range(n_steps):\n",
        "        actions = [env.action_space.sample() for _ in range(n_envs)]\n",
        "        env.step(actions)\n",
        "\n",
        "    elapsed = time.time() - start\n",
        "    env.close()  # Important: Always close environments, especially SubprocVecEnv!\n",
        "    return elapsed\n",
        "\n",
        "print(\"⏱️  Timing 1000 steps with 4 environments:\")\n",
        "dummy_time = time_env_step(DummyVecEnv)\n",
        "subproc_time = time_env_step(SubprocVecEnv)\n",
        "\n",
        "print(f\"  DummyVecEnv:   {dummy_time:.3f}s\")\n",
        "print(f\"  SubprocVecEnv: {subproc_time:.3f}s\")\n",
        "print(f\"\\n🎯 Winner for CartPole: {'DummyVecEnv' if dummy_time < subproc_time else 'SubprocVecEnv'}!\")\n",
        "print(\"\\n💡 Why? CartPole is too simple - communication overhead > computation time!\")"
      ]
    },
    {
      "cell_type": "markdown",
      "metadata": {
        "id": "xVnPzz-a7vnH"
      },
      "source": [
        "## 🎲 Critical: Proper Seeding for Reproducibility\n",
        "\n",
        "### Method 3: Custom Factory Functions with Full Control\n",
        "\n",
        "The third way to create vectorized environments is using custom factory functions. This gives you:\n",
        "- ✅ Full control over seeding\n",
        "- ✅ Reproducible results\n",
        "- ✅ Guaranteed diversity between environments\n",
        "\n",
        "This approach is equivalent to what `make_vec_env` does internally!\n",
        "\n",
        "### The Problem: Without Unique Seeds\n",
        "\n",
        "When using the same seed for all environments, they become **perfectly synchronized**, eliminating the diversity benefit of vectorization:"
      ]
    },
    {
      "cell_type": "code",
      "execution_count": 5,
      "metadata": {
        "colab": {
          "base_uri": "https://localhost:8080/"
        },
        "id": "PAbAt9_M7vnH",
        "outputId": "389b79d2-a151-452e-e2d1-2c2237826fd2"
      },
      "outputs": [
        {
          "output_type": "stream",
          "name": "stdout",
          "text": [
            "🎲 SEED DEMONSTRATION\n",
            "==================================================\n",
            "\n",
            "❌ With SAME seeds:\n",
            "Initial observations:\n",
            "[[-0.04058227  0.04756223  0.02611397  0.02860643]\n",
            " [-0.04058227  0.04756223  0.02611397  0.02860643]\n",
            " [-0.04058227  0.04756223  0.02611397  0.02860643]]\n",
            "Notice: All observations are IDENTICAL!\n",
            "\n",
            "After same action:\n",
            "[[-0.03963102  0.24230015  0.0266861  -0.25572422]\n",
            " [-0.03963102  0.24230015  0.0266861  -0.25572422]\n",
            " [-0.03963102  0.24230015  0.0266861  -0.25572422]]\n",
            "Still IDENTICAL - no diversity!\n",
            "\n",
            "✅ With DIFFERENT seeds (rank-based):\n",
            "Initial observations:\n",
            "[[-0.04058227  0.04756223  0.02611397  0.02860643]\n",
            " [ 0.0087143  -0.02752948  0.02517923 -0.02363078]\n",
            " [-0.03376829  0.03572937 -0.03369547 -0.01620381]]\n",
            "Now they're DIFFERENT - better exploration!\n",
            "\n",
            "💡 Key insight: rank + seed ensures reproducibility AND diversity!\n"
          ]
        }
      ],
      "source": [
        "# Demonstrate the importance of unique seeds\n",
        "print(\"🎲 SEED DEMONSTRATION\")\n",
        "print(\"=\" * 50)\n",
        "\n",
        "\n",
        "# Wrong way - same seed\n",
        "def make_env_same_seed(env_id, seed=42):\n",
        "    def _init():\n",
        "        env = gym.make(env_id)\n",
        "        env.reset(seed=seed)  # Same seed!\n",
        "        return env\n",
        "    return _init\n",
        "\n",
        "# Right way - different seeds\n",
        "def make_env(env_id, rank, seed=42):\n",
        "    def _init():\n",
        "        env = gym.make(env_id)\n",
        "        env.reset(seed=seed + rank)  # Different seeds!\n",
        "        return env\n",
        "    set_random_seed(seed)\n",
        "    return _init\n",
        "\n",
        "# Test with same seeds\n",
        "print(\"\\n❌ With SAME seeds:\")\n",
        "vec_env_same = DummyVecEnv([make_env_same_seed(\"CartPole-v1\") for _ in range(3)])\n",
        "obs = vec_env_same.reset()\n",
        "print(f\"Initial observations:\\n{obs}\")\n",
        "print(\"Notice: All observations are IDENTICAL!\")\n",
        "\n",
        "# Take a step\n",
        "actions = [1, 1, 1]  # Same action\n",
        "obs, _, _, _ = vec_env_same.step(actions)\n",
        "print(f\"\\nAfter same action:\\n{obs}\")\n",
        "print(\"Still IDENTICAL - no diversity!\")\n",
        "vec_env_same.close()\n",
        "\n",
        "# Test with different seeds\n",
        "print(\"\\n✅ With DIFFERENT seeds (rank-based):\")\n",
        "vec_env_diff = DummyVecEnv([make_env(\"CartPole-v1\", i, 42) for i in range(3)])\n",
        "obs = vec_env_diff.reset()\n",
        "print(f\"Initial observations:\\n{obs}\")\n",
        "print(\"Now they're DIFFERENT - better exploration!\")\n",
        "vec_env_diff.close()\n",
        "\n",
        "print(\"\\n💡 Key insight: rank + seed ensures reproducibility AND diversity!\")"
      ]
    },
    {
      "cell_type": "markdown",
      "metadata": {
        "id": "i1T1DhSb7vnI"
      },
      "source": [
        "## 📊 Comprehensive Performance Analysis\n",
        "\n",
        "Following the official SB3 tutorial approach, we'll conduct multiple experiments to analyze the trade-offs between training speed and sample efficiency."
      ]
    },
    {
      "cell_type": "code",
      "execution_count": 6,
      "metadata": {
        "colab": {
          "base_uri": "https://localhost:8080/"
        },
        "id": "oYfAzlc-7vnI",
        "outputId": "67ccb757-5aa8-44cb-973c-0d848ee0f2ac"
      },
      "outputs": [
        {
          "output_type": "stream",
          "name": "stdout",
          "text": [
            "🔬 PERFORMANCE ANALYSIS\n",
            "==================================================\n",
            "Algorithm: A2C\n",
            "Environment: CartPole-v1\n",
            "Experiments per setting: 3\n",
            "Training steps: 5000\n",
            "\n",
            "📊 Testing with 1 process(es)...\n"
          ]
        },
        {
          "output_type": "stream",
          "name": "stderr",
          "text": [
            "/usr/local/lib/python3.11/dist-packages/stable_baselines3/common/evaluation.py:67: UserWarning: Evaluation environment is not wrapped with a ``Monitor`` wrapper. This may result in reporting modified episode lengths and rewards, if other wrappers happen to modify these. Consider wrapping environment first with ``Monitor`` wrapper.\n",
            "  warnings.warn(\n"
          ]
        },
        {
          "output_type": "stream",
          "name": "stdout",
          "text": [
            "  Mean reward: 412.7 ± 114.7\n",
            "  Mean time: 9.75s\n",
            "\n",
            "📊 Testing with 2 process(es)...\n",
            "  Mean reward: 158.7 ± 138.7\n",
            "  Mean time: 5.27s\n",
            "\n",
            "📊 Testing with 4 process(es)...\n",
            "  Mean reward: 299.9 ± 109.8\n",
            "  Mean time: 2.53s\n",
            "\n",
            "📊 Testing with 8 process(es)...\n",
            "  Mean reward: 87.5 ± 34.5\n",
            "  Mean time: 1.51s\n",
            "\n",
            "📊 Testing with 16 process(es)...\n",
            "  Mean reward: 59.1 ± 25.1\n",
            "  Mean time: 0.74s\n"
          ]
        }
      ],
      "source": [
        "# Following the official tutorial structure with comments\n",
        "env_id = \"CartPole-v1\"\n",
        "PROCESSES_TO_TEST = [1, 2, 4, 8, 16]\n",
        "NUM_EXPERIMENTS = 3  # Multiple runs for stability\n",
        "TRAIN_STEPS = 5000\n",
        "EVAL_EPS = 20\n",
        "ALGO = A2C  # A2C is a synchronous version of A3C designed for vectorized environments\n",
        "\n",
        "# Create evaluation environment\n",
        "eval_env = gym.make(env_id)\n",
        "\n",
        "# Storage for results\n",
        "reward_averages = []\n",
        "reward_std = []\n",
        "training_times = []\n",
        "total_procs = 0  # Accumulated for unique seeding\n",
        "\n",
        "print(\"🔬 PERFORMANCE ANALYSIS\")\n",
        "print(\"=\" * 50)\n",
        "print(f\"Algorithm: {ALGO.__name__}\")\n",
        "print(f\"Environment: {env_id}\")\n",
        "print(f\"Experiments per setting: {NUM_EXPERIMENTS}\")\n",
        "print(f\"Training steps: {TRAIN_STEPS}\")\n",
        "\n",
        "for n_procs in PROCESSES_TO_TEST:\n",
        "    total_procs += n_procs\n",
        "    print(f\"\\n📊 Testing with {n_procs} process(es)...\")\n",
        "\n",
        "    # IMPORTANT: From the official tutorial - A2C implementation scales linearly\n",
        "    # with the number of workers (i.e. environments), see original A3C paper\n",
        "    if n_procs == 1:\n",
        "        # Single process\n",
        "        train_env = DummyVecEnv([lambda: gym.make(env_id)])\n",
        "    else:\n",
        "        # Multiple processes - using DummyVecEnv with manual seed management\n",
        "        # Note: make_vec_env(env_id, n_envs=n_procs, seed=42) would be equivalent\n",
        "        # and simpler, handling the seed management automatically\n",
        "        train_env = DummyVecEnv(\n",
        "            [make_env(env_id, i + total_procs) for i in range(n_procs)]\n",
        "        )\n",
        "\n",
        "    rewards = []\n",
        "    times = []\n",
        "\n",
        "    for experiment in range(NUM_EXPERIMENTS):\n",
        "        # Reset environment\n",
        "        train_env.reset()\n",
        "        model = ALGO(\"MlpPolicy\", train_env, verbose=0)\n",
        "\n",
        "        # Time training\n",
        "        start = time.time()\n",
        "        model.learn(total_timesteps=TRAIN_STEPS)\n",
        "        times.append(time.time() - start)\n",
        "\n",
        "        # Evaluate\n",
        "        mean_reward, _ = evaluate_policy(model, eval_env, n_eval_episodes=EVAL_EPS)\n",
        "        rewards.append(mean_reward)\n",
        "\n",
        "    # Close environment\n",
        "    train_env.close()\n",
        "\n",
        "    # Store statistics\n",
        "    reward_averages.append(np.mean(rewards))\n",
        "    reward_std.append(np.std(rewards))\n",
        "    training_times.append(np.mean(times))\n",
        "\n",
        "    print(f\"  Mean reward: {np.mean(rewards):.1f} ± {np.std(rewards):.1f}\")\n",
        "    print(f\"  Mean time: {np.mean(times):.2f}s\")\n",
        "\n",
        "eval_env.close()"
      ]
    },
    {
      "cell_type": "code",
      "execution_count": 7,
      "metadata": {
        "colab": {
          "base_uri": "https://localhost:8080/",
          "height": 515
        },
        "id": "kU0n6PM17vnJ",
        "outputId": "921cacb4-4354-4d9a-c7ac-5c9a38657607"
      },
      "outputs": [
        {
          "output_type": "stream",
          "name": "stdout",
          "text": [
            "\n",
            "📈 Results Summary:\n",
            "Processes: [1, 2, 4, 8, 16]\n",
            "FPS: ['513', '949', '1976', '3316', '6771']\n",
            "Rewards: ['412.7', '158.7', '299.9', '87.5', '59.1']\n"
          ]
        },
        {
          "output_type": "display_data",
          "data": {
            "text/plain": [
              "<Figure size 900x400 with 2 Axes>"
            ],
            "image/png": "[encoded data removed]"
          },
          "metadata": {}
        }
      ],
      "source": [
        "# Plotting results - following official tutorial style\n",
        "def plot_training_results(training_steps_per_second, reward_averages, reward_std):\n",
        "    plt.figure(figsize=(9, 4))\n",
        "    plt.subplots_adjust(wspace=0.5)\n",
        "\n",
        "    # Performance plot\n",
        "    plt.subplot(1, 2, 1)\n",
        "    plt.errorbar(\n",
        "        PROCESSES_TO_TEST,\n",
        "        reward_averages,\n",
        "        yerr=reward_std,\n",
        "        capsize=2,\n",
        "        c=\"k\",\n",
        "        marker=\"o\",\n",
        "    )\n",
        "    plt.xlabel(\"Processes\")\n",
        "    plt.ylabel(\"Average return\")\n",
        "    plt.title(\"Sample Efficiency\")\n",
        "\n",
        "    # Speed plot\n",
        "    plt.subplot(1, 2, 2)\n",
        "    plt.bar(range(len(PROCESSES_TO_TEST)), training_steps_per_second)\n",
        "    plt.xticks(range(len(PROCESSES_TO_TEST)), PROCESSES_TO_TEST)\n",
        "    plt.xlabel(\"Processes\")\n",
        "    plt.ylabel(\"Training steps per second\")\n",
        "    plt.title(\"Training Speed\")\n",
        "\n",
        "    plt.suptitle(\"Sample Efficiency vs Training Speed Trade-off\")\n",
        "    plt.show()\n",
        "\n",
        "# Calculate steps per second\n",
        "training_steps_per_second = [TRAIN_STEPS / t for t in training_times]\n",
        "\n",
        "print(\"\\n📈 Results Summary:\")\n",
        "print(f\"Processes: {PROCESSES_TO_TEST}\")\n",
        "print(f\"FPS: {[f'{fps:.0f}' for fps in training_steps_per_second]}\")\n",
        "print(f\"Rewards: {[f'{r:.1f}' for r in reward_averages]}\")\n",
        "\n",
        "plot_training_results(training_steps_per_second, reward_averages, reward_std)"
      ]
    },
    {
      "cell_type": "markdown",
      "metadata": {
        "id": "zOmsSmEh7vnK"
      },
      "source": [
        "## ⏱️ Fixed Wall-Clock Time Analysis\n",
        "\n",
        "**Key Trade-off**: More environments = faster training but potentially worse sample efficiency per step.\n",
        "\n",
        "However, when we fix the **wall-clock time**, the story changes:"
      ]
    },
    {
      "cell_type": "code",
      "execution_count": 8,
      "metadata": {
        "colab": {
          "base_uri": "https://localhost:8080/",
          "height": 993
        },
        "id": "kYpQFWxE7vnK",
        "outputId": "645bb47c-d4b8-416e-bbfc-949b092a2893"
      },
      "outputs": [
        {
          "output_type": "stream",
          "name": "stdout",
          "text": [
            "⏱️  FIXED TIME ANALYSIS\n",
            "==================================================\n",
            "Fixed time per experiment: 10s\n",
            "Steps per configuration: [5128, 9485, 19763, 33164, 67714]\n",
            "\n",
            "🔄 1 process(es), 5128 steps...\n"
          ]
        },
        {
          "output_type": "stream",
          "name": "stderr",
          "text": [
            "/usr/local/lib/python3.11/dist-packages/stable_baselines3/common/evaluation.py:67: UserWarning: Evaluation environment is not wrapped with a ``Monitor`` wrapper. This may result in reporting modified episode lengths and rewards, if other wrappers happen to modify these. Consider wrapping environment first with ``Monitor`` wrapper.\n",
            "  warnings.warn(\n"
          ]
        },
        {
          "output_type": "stream",
          "name": "stdout",
          "text": [
            "  Mean reward: 185.2 ± 66.0\n",
            "  Actual time: 9.86s\n",
            "\n",
            "🔄 2 process(es), 9485 steps...\n",
            "  Mean reward: 332.9 ± 131.5\n",
            "  Actual time: 9.55s\n",
            "\n",
            "🔄 4 process(es), 19763 steps...\n",
            "  Mean reward: 370.0 ± 159.3\n",
            "  Actual time: 10.00s\n",
            "\n",
            "🔄 8 process(es), 33164 steps...\n",
            "  Mean reward: 321.5 ± 134.1\n",
            "  Actual time: 9.10s\n",
            "\n",
            "🔄 16 process(es), 67714 steps...\n",
            "  Mean reward: 272.2 ± 168.5\n",
            "  Actual time: 10.70s\n"
          ]
        },
        {
          "output_type": "display_data",
          "data": {
            "text/plain": [
              "<Figure size 800x500 with 1 Axes>"
            ],
            "image/png": "[encoded data removed]"
          },
          "metadata": {}
        },
        {
          "output_type": "stream",
          "name": "stdout",
          "text": [
            "\n",
            "💡 Key Insight: With fixed wall-clock time, more environments often win!\n"
          ]
        }
      ],
      "source": [
        "# Fixed time experiment - crucial for understanding trade-offs\n",
        "SECONDS_PER_EXPERIMENT = 10\n",
        "steps_per_experiment = [int(SECONDS_PER_EXPERIMENT * fps) for fps in training_steps_per_second]\n",
        "\n",
        "print(\"⏱️  FIXED TIME ANALYSIS\")\n",
        "print(\"=\" * 50)\n",
        "print(f\"Fixed time per experiment: {SECONDS_PER_EXPERIMENT}s\")\n",
        "print(f\"Steps per configuration: {steps_per_experiment}\")\n",
        "\n",
        "fixed_time_rewards = []\n",
        "fixed_time_std = []\n",
        "actual_times = []\n",
        "\n",
        "for n_procs, train_steps in zip(PROCESSES_TO_TEST, steps_per_experiment):\n",
        "    total_procs += n_procs\n",
        "    print(f\"\\n🔄 {n_procs} process(es), {train_steps} steps...\")\n",
        "\n",
        "    if n_procs == 1:\n",
        "        train_env = DummyVecEnv([lambda: gym.make(env_id)])\n",
        "    else:\n",
        "        # Using manual seed management\n",
        "        # Equivalent to: train_env = make_vec_env(env_id, n_envs=n_procs, seed=total_procs)\n",
        "        train_env = DummyVecEnv([make_env(env_id, i+total_procs) for i in range(n_procs)])\n",
        "\n",
        "    rewards = []\n",
        "    times = []\n",
        "\n",
        "    for experiment in range(NUM_EXPERIMENTS):\n",
        "        train_env.reset()\n",
        "        model = ALGO(\"MlpPolicy\", train_env, verbose=0)\n",
        "\n",
        "        start = time.time()\n",
        "        model.learn(total_timesteps=train_steps)\n",
        "        times.append(time.time() - start)\n",
        "\n",
        "        mean_reward, _ = evaluate_policy(model, eval_env, n_eval_episodes=EVAL_EPS)\n",
        "        rewards.append(mean_reward)\n",
        "\n",
        "    train_env.close()\n",
        "\n",
        "    fixed_time_rewards.append(np.mean(rewards))\n",
        "    fixed_time_std.append(np.std(rewards))\n",
        "    actual_times.append(np.mean(times))\n",
        "\n",
        "    print(f\"  Mean reward: {np.mean(rewards):.1f} ± {np.std(rewards):.1f}\")\n",
        "    print(f\"  Actual time: {np.mean(times):.2f}s\")\n",
        "\n",
        "# Plot fixed time results\n",
        "plt.figure(figsize=(8, 5))\n",
        "plt.errorbar(\n",
        "    PROCESSES_TO_TEST,\n",
        "    fixed_time_rewards,\n",
        "    yerr=fixed_time_std,\n",
        "    capsize=2,\n",
        "    c=\"b\",\n",
        "    marker=\"o\",\n",
        "    label=\"Fixed time\"\n",
        ")\n",
        "plt.errorbar(\n",
        "    PROCESSES_TO_TEST,\n",
        "    reward_averages,\n",
        "    yerr=reward_std,\n",
        "    capsize=2,\n",
        "    c=\"r\",\n",
        "    marker=\"s\",\n",
        "    label=\"Fixed steps\",\n",
        "    alpha=0.7\n",
        ")\n",
        "plt.xlabel(\"Number of Processes\")\n",
        "plt.ylabel(\"Average Return\")\n",
        "plt.title(\"Fixed Time vs Fixed Steps Performance\")\n",
        "plt.legend()\n",
        "plt.grid(True, alpha=0.3)\n",
        "plt.show()\n",
        "\n",
        "print(\"\\n💡 Key Insight: With fixed wall-clock time, more environments often win!\")"
      ]
    },
    {
      "cell_type": "markdown",
      "metadata": {
        "id": "wfDIpz9u7vnK"
      },
      "source": [
        "## 🎮 Algorithm-Specific Vectorization Benefits\n",
        "\n",
        "Different algorithms benefit differently from vectorization based on their architectural design:\n",
        "\n",
        "- **On-policy algorithms** (A2C, PPO, TRPO): Benefit from both speed AND improved gradient estimates\n",
        "- **Off-policy algorithms** (DQN, SAC): Primarily benefit from faster data collection\n",
        "\n",
        "Let's analyze these differences empirically with proper statistical averaging:"
      ]
    },
    {
      "cell_type": "code",
      "execution_count": 9,
      "metadata": {
        "colab": {
          "base_uri": "https://localhost:8080/"
        },
        "id": "7v1HSvEw7vnL",
        "outputId": "64e26819-b005-4e41-d566-7725d7ea12be"
      },
      "outputs": [
        {
          "output_type": "stream",
          "name": "stdout",
          "text": [
            "🎮 ALGORITHM COMPARISON\n",
            "==================================================\n",
            "Testing 4 algorithms with 1 vs 4 environments\n",
            "Training steps: 10000\n",
            "Experiments per setting: 5\n",
            "\n",
            "\n",
            "📊 A2C (on-policy, synchronous):\n",
            "--------------------------------------------------\n",
            "  Single env: 19.21s, reward: 273.7 ± 132.0\n",
            "  4 envs:     5.21s, reward: 365.5 ± 124.7\n",
            "  Speedup:    3.69x\n",
            "  Reward improvement: +33.5%\n",
            "  💡 Benefits: Fresh data + Better gradient estimates (batch_size = n_steps × n_envs)\n",
            "\n",
            "📊 PPO (on-policy, synchronous):\n",
            "--------------------------------------------------\n",
            "  Single env: 16.79s, reward: 426.2 ± 73.1\n",
            "  4 envs:     10.15s, reward: 369.3 ± 122.2\n",
            "  Speedup:    1.65x\n",
            "  Reward improvement: -13.3%\n",
            "  💡 Benefits: Fresh data + Better gradient estimates (batch_size = n_steps × n_envs)\n",
            "\n",
            "📊 DQN (off-policy, asynchronous):\n",
            "--------------------------------------------------\n",
            "  Single env: 10.93s, reward: 12.5 ± 4.2\n",
            "  4 envs:     2.96s, reward: 9.2 ± 0.1\n",
            "  Speedup:    3.69x\n",
            "  Reward improvement: -26.3%\n",
            "  💡 Benefits: Faster buffer filling + More diverse experiences\n",
            "\n",
            "📊 TRPO (on-policy, synchronous):\n",
            "--------------------------------------------------\n",
            "  Single env: 14.49s, reward: 253.3 ± 100.8\n",
            "  4 envs:     5.20s, reward: 428.8 ± 71.1\n",
            "  Speedup:    2.79x\n",
            "  Reward improvement: +69.3%\n",
            "  💡 Benefits: Fresh data + Better gradient estimates (batch_size = n_steps × n_envs)\n"
          ]
        }
      ],
      "source": [
        "# Extended algorithm comparison with multiple experiments for stability\n",
        "algorithms_to_test = {\n",
        "    \"A2C\": {\"class\": A2C, \"type\": \"on-policy\", \"sync\": \"synchronous\", \"n_steps\": 5},\n",
        "    \"PPO\": {\"class\": PPO, \"type\": \"on-policy\", \"sync\": \"synchronous\", \"n_steps\": 128},\n",
        "    \"DQN\": {\"class\": DQN, \"type\": \"off-policy\", \"sync\": \"asynchronous\", \"buffer_size\": 10000},\n",
        "}\n",
        "\n",
        "if HAS_CONTRIB:\n",
        "    algorithms_to_test[\"TRPO\"] = {\"class\": TRPO, \"type\": \"on-policy\", \"sync\": \"synchronous\", \"n_steps\": 128}\n",
        "\n",
        "print(\"🎮 ALGORITHM COMPARISON\")\n",
        "print(\"=\" * 50)\n",
        "print(f\"Testing {len(algorithms_to_test)} algorithms with 1 vs 4 environments\")\n",
        "print(f\"Training steps: 10000\")\n",
        "print(f\"Experiments per setting: 5\\n\")\n",
        "\n",
        "algo_results = {}\n",
        "\n",
        "for algo_name, algo_info in algorithms_to_test.items():\n",
        "    print(f\"\\n📊 {algo_name} ({algo_info['type']}, {algo_info['sync']}):\")\n",
        "    print(\"-\" * 50)\n",
        "\n",
        "    try:\n",
        "        # Run multiple experiments for stability\n",
        "        single_times = []\n",
        "        single_rewards = []\n",
        "        vec_times = []\n",
        "        vec_rewards = []\n",
        "\n",
        "        for exp in range(5):\n",
        "            # Single environment experiment\n",
        "            env = gym.make(env_id)\n",
        "            kwargs = {\"verbose\": 0}\n",
        "            if \"n_steps\" in algo_info:\n",
        "                kwargs[\"n_steps\"] = algo_info[\"n_steps\"]\n",
        "            if \"buffer_size\" in algo_info:\n",
        "                kwargs[\"buffer_size\"] = algo_info[\"buffer_size\"]\n",
        "                kwargs[\"learning_starts\"] = 1000\n",
        "\n",
        "            model = algo_info[\"class\"](\"MlpPolicy\", env, **kwargs)\n",
        "            start = time.time()\n",
        "            model.learn(10000)\n",
        "            single_times.append(time.time() - start)\n",
        "            single_reward, _ = evaluate_policy(model, env, n_eval_episodes=10)\n",
        "            single_rewards.append(single_reward)\n",
        "            env.close()\n",
        "\n",
        "            # Vector environment experiment\n",
        "            vec_env = make_vec_env(env_id, n_envs=4, seed=42+exp)\n",
        "            model = algo_info[\"class\"](\"MlpPolicy\", vec_env, **kwargs)\n",
        "            start = time.time()\n",
        "            model.learn(10000)\n",
        "            vec_times.append(time.time() - start)\n",
        "            vec_reward, _ = evaluate_policy(model, vec_env, n_eval_episodes=10)\n",
        "            vec_rewards.append(vec_reward)\n",
        "            vec_env.close()\n",
        "\n",
        "        # Calculate statistics\n",
        "        avg_single_time = np.mean(single_times)\n",
        "        avg_single_reward = np.mean(single_rewards)\n",
        "        std_single_reward = np.std(single_rewards)\n",
        "        avg_vec_time = np.mean(vec_times)\n",
        "        avg_vec_reward = np.mean(vec_rewards)\n",
        "        std_vec_reward = np.std(vec_rewards)\n",
        "\n",
        "        speedup = avg_single_time / avg_vec_time\n",
        "        reward_improvement = (avg_vec_reward - avg_single_reward) / avg_single_reward * 100\n",
        "\n",
        "        algo_results[algo_name] = {\n",
        "            \"speedup\": speedup,\n",
        "            \"type\": algo_info[\"type\"],\n",
        "            \"sync\": algo_info[\"sync\"],\n",
        "            \"single_reward\": avg_single_reward,\n",
        "            \"vec_reward\": avg_vec_reward,\n",
        "            \"reward_improvement\": reward_improvement\n",
        "        }\n",
        "\n",
        "        print(f\"  Single env: {avg_single_time:.2f}s, reward: {avg_single_reward:.1f} ± {std_single_reward:.1f}\")\n",
        "        print(f\"  4 envs:     {avg_vec_time:.2f}s, reward: {avg_vec_reward:.1f} ± {std_vec_reward:.1f}\")\n",
        "        print(f\"  Speedup:    {speedup:.2f}x\")\n",
        "        print(f\"  Reward improvement: {reward_improvement:+.1f}%\")\n",
        "\n",
        "        # Explain the benefits\n",
        "        if algo_info[\"type\"] == \"on-policy\":\n",
        "            print(f\"  💡 Benefits: Fresh data + Better gradient estimates (batch_size = n_steps × n_envs)\")\n",
        "        else:\n",
        "            print(f\"  💡 Benefits: Faster buffer filling + More diverse experiences\")\n",
        "\n",
        "    except Exception as e:\n",
        "        print(f\"  ❌ Error: {e}\")"
      ]
    },
    {
      "cell_type": "markdown",
      "metadata": {
        "id": "h6_KEcau7vnL"
      },
      "source": [
        "\n",
        "\n",
        "### How Vectorization Improves Gradient Estimates\n",
        "\n",
        "**Evidence from the A3C paper** (Mnih et al., 2016):\n",
        "> \"Using parallel actor-learners has a stabilizing effect on training... different actors are likely to be exploring different parts of the environment.\"\n",
        "\n",
        "**Concrete mechanism**:\n",
        "```python\n",
        "# Single environment gradient:\n",
        "gradient = compute_gradient(batch_size=5)  # 5 consecutive steps from same trajectory\n",
        "\n",
        "# Vectorized gradient:\n",
        "gradient = compute_gradient(batch_size=20)  # 5 steps × 4 envs = 20 diverse samples\n",
        "```\n",
        "\n",
        "The key insight: With 4 environments, each gradient update uses data from 4 different trajectories, reducing correlation and providing better coverage of the state-action space. This leads to:\n",
        "- Lower variance in gradient estimates\n",
        "- Better exploration of the state space\n",
        "- More stable learning\n",
        "\n",
        "**Supporting evidence**:\n",
        "- OpenAI's technical report on A2C shows variance reduction scales with √n_envs\n",
        "- The IMPALA paper (Espeholt et al., 2018) demonstrates this effect at scale\n",
        "\n"
      ]
    },
    {
      "cell_type": "markdown",
      "metadata": {
        "id": "lNf2oYGV7vnM"
      },
      "source": [
        "## 🧠 Knowledge Check\n",
        "\n",
        "### Question 1: Seed Management\n",
        "Why do we use `seed + rank` instead of just `seed` for each environment?\n",
        "\n",
        "<details>\n",
        "<summary>Click to reveal answer</summary>\n",
        "\n",
        "**Answer**: Using `seed + rank` ensures:\n",
        "- Each environment has a unique seed (diversity)\n",
        "- Results are reproducible (same seed = same behavior)\n",
        "- Without this, all environments would take identical actions!\n",
        "</details>\n",
        "\n",
        "### Question 2: DummyVecEnv vs SubprocVecEnv\n",
        "For a computationally expensive environment (e.g., physics simulation), which would you choose?\n",
        "\n",
        "<details>\n",
        "<summary>Click to reveal answer</summary>\n",
        "\n",
        "**Answer**: SubprocVecEnv!\n",
        "- Heavy computation benefits from true parallelism\n",
        "- Communication overhead becomes negligible compared to computation time\n",
        "- Rule of thumb: If env.step() > 1ms, use SubprocVecEnv\n",
        "</details>\n",
        "\n",
        "### Question 3: Creating Vector Environments\n",
        "Which of these methods properly handles seeding for reproducible multi-environment training?\n",
        "\n",
        "A) `make_vec_env(\"CartPole-v1\", n_envs=4, seed=42)`\n",
        "\n",
        "B) `DummyVecEnv([lambda: gym.make(\"CartPole-v1\") for _ in range(4)])`\n",
        "\n",
        "C)\n",
        "```python\n",
        "def make_env(rank, seed=0):\n",
        "    def _init():\n",
        "        env = gym.make(\"CartPole-v1\")\n",
        "        env.reset(seed=seed + rank)\n",
        "        return env\n",
        "    return _init\n",
        "DummyVecEnv([make_env(i, 42) for i in range(4)])\n",
        "```\n",
        "\n",
        "D) Both A and C\n",
        "\n",
        "<details>\n",
        "<summary>Click to reveal answer</summary>\n",
        "\n",
        "**Answer**: D) Both A and C\n",
        "\n",
        "- **A** is correct: `make_vec_env` automatically handles seed management internally by adding the rank to the base seed (seed=42 → env0: 42, env1: 43, env2: 44, env3: 45)\n",
        "- **B** is incorrect: No seed management at all. Environments get uncontrolled random initialization, making results non-reproducible\n",
        "- **C** is correct: Manually implements proper seed management with `seed + rank`\n",
        "- `make_vec_env` is the convenient wrapper that implements the pattern shown in C automatically!\n",
        "\n",
        "**Common misconception**: \"Unseeded environments get the same seed if created quickly\"  \n",
        "**Reality**: Modern Python uses good entropy sources, so environments typically get different initialization. The real issue is lack of reproducibility and control.\n",
        "\n",
        "**Note**: `make_vec_env` also accepts `vec_env_cls` parameter to choose between DummyVecEnv and SubprocVecEnv.\n",
        "</details>\n",
        "\n",
        "### Question 4: Environment Cleanup\n",
        "Why is calling `vec_env.close()` especially important for SubprocVecEnv?\n",
        "\n",
        "<details>\n",
        "<summary>Click to reveal answer</summary>\n",
        "\n",
        "**Answer**: SubprocVecEnv spawns separate OS processes that must be properly terminated!\n",
        "- Without closing: Processes become zombies and consume system resources\n",
        "- Can lead to: Resource exhaustion, inability to create new processes\n",
        "- DummyVecEnv cleanup is less critical but still important for memory/rendering\n",
        "- Best practice: Always use try-finally blocks or context managers\n",
        "</details>"
      ]
    },
    {
      "cell_type": "markdown",
      "metadata": {
        "id": "Qt8Kljj47vnN"
      },
      "source": [
        "## 📋 Summary: Three Ways to Create Vectorized Environments\n",
        "\n",
        "### 1. **`make_vec_env()` - Recommended Approach** ✅\n",
        "```python\n",
        "vec_env = make_vec_env(\"CartPole-v1\", n_envs=4, seed=42)\n",
        "```\n",
        "- Automatic seed management (seed + rank)\n",
        "- Supports both DummyVecEnv and SubprocVecEnv\n",
        "- Handles all initialization details\n",
        "- **This is what you should use in practice!**\n",
        "\n",
        "### 2. **Direct DummyVecEnv - Quick but Risky** ⚠️\n",
        "```python\n",
        "vec_env = DummyVecEnv([lambda: gym.make(\"CartPole-v1\") for _ in range(4)])\n",
        "```\n",
        "- No automatic seed management\n",
        "- Environments get uncontrolled random initialization\n",
        "- Not reproducible\n",
        "- Only use for quick experiments where reproducibility doesn't matter\n",
        "\n",
        "### 3. **Custom Factory Functions - Full Control** 🔧\n",
        "```python\n",
        "def make_env(env_id, rank, seed=0):\n",
        "    def _init():\n",
        "        env = gym.make(env_id)\n",
        "        env.reset(seed=seed + rank)\n",
        "        return env\n",
        "    return _init\n",
        "\n",
        "vec_env = DummyVecEnv([make_env(\"CartPole-v1\", i, 42) for i in range(4)])\n",
        "```\n",
        "- Manual seed management (seed + rank)\n",
        "- Full control over initialization\n",
        "- Equivalent to what `make_vec_env` does internally\n",
        "- Use when you need custom initialization logic\n",
        "\n",
        "## 🎯 Key Takeaways"
      ]
    },
    {
      "cell_type": "markdown",
      "metadata": {
        "id": "Roi37oAo7vnN"
      },
      "source": [
        "1. **Use `make_vec_env()` for easy vectorization** with automatic seed management\n",
        "\n",
        "2. **Vectorization provides 2-7x speedup** depending on algorithm & environment\n",
        "\n",
        "3. **On-policy algorithms** (A2C, PPO) benefit from BOTH speed AND gradient quality\n",
        "   - Synchronous design allows perfect scaling: `batch_size = n_steps × n_envs`\n",
        "   - Better gradient estimates from diverse trajectories (evidence: A3C paper, IMPALA)\n",
        "\n",
        "4. **Off-policy algorithms** (DQN, SAC) primarily benefit from faster data collection\n",
        "   - But can show surprising performance gains due to experience diversity\n",
        "\n",
        "5. **Seeding strategies differ by use case**:\n",
        "   - **Always use explicit seeding** for reproducibility\n",
        "   - Single-agent: `seed + rank` for diverse game instances\n",
        "   - MARL (shared game): Same seed for all agents in one game\n",
        "   - MARL (parallel games): `seed + game_rank` for each game\n",
        "   - Without seeding: Non-reproducible results and uncontrolled randomness\n",
        "\n",
        "6. **Environment complexity matters**:\n",
        "   - Simple environments → DummyVecEnv (remember to close)\n",
        "   - Complex environments → SubprocVecEnv (MUST close to prevent zombies)\n",
        "\n",
        "7. **Trade-off**: More envs = faster training but potentially worse sample efficiency per step\n",
        "\n",
        "8. **For MARL, two vectorization patterns exist (see reference session)**:\n",
        "   - Pattern 1: Multiple agents, one game (no env parallelization)\n",
        "   - Pattern 2: Multiple parallel games × multiple agents (true parallelization)\n",
        "\n",
        "9. **Modern large-scale MARL** uses Pattern 2 for computational efficiency"
      ]
    },
    {
      "cell_type": "markdown",
      "metadata": {
        "id": "Oe0MsG-w7vnN"
      },
      "source": [
        "## 🎓 Connections to Multi-Agent RL (Reference Section)\n",
        "\n",
        "*Note: This section provides context for MARL researchers on how vectorization principles extend to multi-agent settings.*"
      ]
    },
    {
      "cell_type": "markdown",
      "metadata": {
        "id": "uwJTIgJB7vnN"
      },
      "source": [
        "### MARL Tools and Libraries\n",
        "\n",
        "For researchers interested in applying these vectorization concepts to MARL:\n",
        "\n",
        "```python\n",
        "# PettingZoo - Multi-agent environments\n",
        "# https://pettingzoo.farama.org/\n",
        "from pettingzoo.butterfly import pistonball_v6\n",
        "\n",
        "# SuperSuit - Vectorization for MARL\n",
        "# https://github.com/Farama-Foundation/SuperSuit\n",
        "from supersuit import pettingzoo_env_to_vec_env_v1\n",
        "from supersuit import concat_vec_envs_v1\n",
        "\n",
        "# Example: Vectorize multi-agent environment\n",
        "env = pistonball_v6.parallel_env()\n",
        "vec_env = pettingzoo_env_to_vec_env_v1(env)\n",
        "vec_env = concat_vec_envs_v1(vec_env, 8)  # 8 parallel instances\n",
        "```\n",
        "\n",
        "This creates 8 parallel games × multiple agents per game!\n",
        "\n",
        "**Key References**:\n",
        "- 'Parameter Sharing is Surprisingly Useful for Multi-Agent Deep RL' (Terry et al., 2021)\n",
        "- 'Benchmarking Multi-Agent Deep Reinforcement Learning' (Papoudakis et al., 2021)\n",
        "- MAPPO implementation in EPyMARL framework"
      ]
    },
    {
      "cell_type": "markdown",
      "metadata": {
        "id": "QhZoRGNo7vnO"
      },
      "source": [
        "### Vectorization in Multi-Agent RL: Concrete Applications\n",
        "\n",
        "#### Two Patterns for MARL Vectorization\n",
        "\n",
        "##### Pattern 1: Single Game, Multiple Agents (No Environment Parallelization)\n",
        "```python\n",
        "# All agents in ONE game\n",
        "vec_env = DummyVecEnv([\n",
        "    lambda: MultiAgentEnv(agent_id=0, game_seed=42),  # Agent 0's view\n",
        "    lambda: MultiAgentEnv(agent_id=1, game_seed=42),  # Agent 1's view\n",
        "    lambda: MultiAgentEnv(agent_id=2, game_seed=42),  # Agent 2's view\n",
        "    lambda: MultiAgentEnv(agent_id=3, game_seed=42),  # Agent 3's view\n",
        "])\n",
        "```\n",
        "- ❌ No parallel environment execution (all agents share one game)\n",
        "- ✅ Parameter sharing across agents\n",
        "- ✅ Centralized training for cooperative agents\n",
        "\n",
        "##### Pattern 2: Multiple Parallel Games with Multiple Agents (True Parallelization)\n",
        "```python\n",
        "# Better: Multiple games running in parallel, each with multiple agents\n",
        "def make_parallel_marl_env(n_games=4, n_agents=4):\n",
        "    env_fns = []\n",
        "    for game_rank in range(n_games):\n",
        "        game_seed = 42 + game_rank  # Different seed per game!\n",
        "        for agent_id in range(n_agents):\n",
        "            env_fns.append(\n",
        "                lambda gr=game_rank, aid=agent_id, gs=game_seed:\n",
        "                    MultiAgentEnv(game_id=gr, agent_id=aid, game_seed=gs)\n",
        "            )\n",
        "    return SubprocVecEnv(env_fns)  # 16 total environments!\n",
        "\n",
        "# This gives you:\n",
        "# - 4 parallel games (different seeds)\n",
        "# - 4 agents per game (same seed within game)\n",
        "# - 16 total \"environments\" for vectorized training\n",
        "```\n",
        "- ✅ True parallel execution (multiple games)\n",
        "- ✅ Diverse experiences from different games\n",
        "- ✅ All benefits of vectorization PLUS multi-agent training\n",
        "- ✅ This is what large-scale MARL projects actually use!\n",
        "\n",
        "#### Real-World MARL Vectorization Examples\n",
        "\n",
        "**Major MARL projects using Pattern 2 (parallel games):**\n",
        "\n",
        "1. **OpenAI Five** (Dota 2): 180,000 CPU cores running parallel games\n",
        "2. **Google Research Football**: Multiple parallel 11v11 matches\n",
        "3. **Hide and Seek**: 60,000 parallel games with 2-6 agents each\n",
        "\n",
        "These projects achieve massive scale by running thousands of GAMES in parallel, not just multiple agents in one game!"
      ]
    },
    {
      "cell_type": "code",
      "execution_count": 10,
      "metadata": {
        "id": "5aovOwpz7vnO"
      },
      "outputs": [],
      "source": [
        "# MARL-specific example\n",
        "import numpy as np\n",
        "from gymnasium import spaces\n",
        "\n",
        "class MultiAgentGridWorld(gym.Env):\n",
        "    \"\"\"\n",
        "    Simple multi-agent environment where each 'vectorized environment'\n",
        "    represents a different agent's perspective of the SAME game.\n",
        "\n",
        "    Key insight: In MARL, all agents must share the same game state!\n",
        "    This is fundamentally different from single-agent vectorization.\n",
        "\n",
        "    Based on: Tan, M. 'Multi-agent reinforcement learning: Independent vs.\n",
        "    cooperative agents' (1993)\n",
        "    \"\"\"\n",
        "    # Class variable to share game state across all agent instances\n",
        "    shared_game_state = None\n",
        "\n",
        "    def __init__(self, n_agents=4, grid_size=10, agent_id=0):\n",
        "        super().__init__()\n",
        "        self.n_agents = n_agents\n",
        "        self.grid_size = grid_size\n",
        "        self.agent_id = agent_id  # Which agent's perspective\n",
        "\n",
        "        # Each agent observes: [own_pos, goal_pos, other_agents_positions]\n",
        "        self.observation_space = spaces.Box(\n",
        "            low=0, high=grid_size,\n",
        "            shape=(2 + 2 + 2*(n_agents-1),),\n",
        "            dtype=np.float32\n",
        "        )\n",
        "        self.action_space = spaces.Discrete(4)  # up, down, left, right\n",
        "\n",
        "    def reset(self, seed=None):\n",
        "        super().reset(seed=seed)\n",
        "\n",
        "        # Only the first agent initializes the shared game state\n",
        "        if self.agent_id == 0 or MultiAgentGridWorld.shared_game_state is None:\n",
        "            MultiAgentGridWorld.shared_game_state = {\n",
        "                'agent_positions': self.np_random.integers(0, self.grid_size,\n",
        "                                                          size=(self.n_agents, 2)),\n",
        "                'goal_positions': self.np_random.integers(0, self.grid_size,\n",
        "                                                         size=(self.n_agents, 2))\n",
        "            }\n",
        "\n",
        "        # All agents read from the shared state\n",
        "        self.agent_positions = MultiAgentGridWorld.shared_game_state['agent_positions']\n",
        "        self.goal_positions = MultiAgentGridWorld.shared_game_state['goal_positions']\n",
        "\n",
        "        return self._get_obs(), {}\n",
        "\n",
        "    def _get_obs(self):\n",
        "        \"\"\"Get observation from this agent's perspective\"\"\"\n",
        "        obs = []\n",
        "        obs.extend(self.agent_positions[self.agent_id])\n",
        "        obs.extend(self.goal_positions[self.agent_id])\n",
        "        for i in range(self.n_agents):\n",
        "            if i != self.agent_id:\n",
        "                obs.extend(self.agent_positions[i])\n",
        "        return np.array(obs, dtype=np.float32)\n",
        "\n",
        "    def step(self, action):\n",
        "        moves = [(0, -1), (0, 1), (-1, 0), (1, 0)]\n",
        "        self.agent_positions[self.agent_id] += moves[action]\n",
        "        self.agent_positions[self.agent_id] = np.clip(\n",
        "            self.agent_positions[self.agent_id], 0, self.grid_size-1\n",
        "        )\n",
        "\n",
        "        dist = np.linalg.norm(\n",
        "            self.agent_positions[self.agent_id] - self.goal_positions[self.agent_id]\n",
        "        )\n",
        "        reward = -dist / self.grid_size\n",
        "        terminated = dist < 0.5\n",
        "\n",
        "        return self._get_obs(), reward, terminated, False, {}"
      ]
    },
    {
      "cell_type": "markdown",
      "metadata": {
        "id": "AKcwtFyI7vnO"
      },
      "source": [
        "### Parameter Sharing with Vectorized Environments\n",
        "\n",
        "**Reference**: Yu et al., \"The Surprising Effectiveness of PPO in Cooperative Multi-Agent Games\" (2021)\n",
        "\n",
        "This is exactly how MAPPO works - each vector environment is a different agent:\n",
        "\n",
        "#### 🎲 Important: MARL Seeding is Different!\n",
        "\n",
        "**Single-Agent RL**: Each environment needs a different seed\n",
        "```python\n",
        "# Different games need different random states\n",
        "env0 = gym.make(\"CartPole-v1\", seed=42)  # Game instance 1\n",
        "env1 = gym.make(\"CartPole-v1\", seed=43)  # Game instance 2 (different!)\n",
        "```\n",
        "\n",
        "**Multi-Agent RL (Pattern 1)**: All agents share the same game instance\n",
        "```python\n",
        "# All agents are in the SAME game, just different perspectives\n",
        "game_seed = 42  # Same seed for the shared game state\n",
        "env0 = MultiAgentEnv(agent_id=0, game_seed=game_seed)  # Agent 0's view\n",
        "env1 = MultiAgentEnv(agent_id=1, game_seed=game_seed)  # Agent 1's view\n",
        "```\n",
        "\n",
        "**Multi-Agent RL (Pattern 2)**: Multiple games, each with multiple agents\n",
        "```python\n",
        "# Game 0 (seed=42): Agent 0, 1, 2, 3\n",
        "# Game 1 (seed=43): Agent 0, 1, 2, 3\n",
        "# Game 2 (seed=44): Agent 0, 1, 2, 3\n",
        "# This gives true parallelization!\n",
        "```\n",
        "\n",
        "**Why the difference?**\n",
        "- Single-agent: Want diverse, independent game instances\n",
        "- MARL Pattern 1: All agents must interact in the same environment\n",
        "- MARL Pattern 2: Multiple parallel games for diversity + efficiency"
      ]
    },
    {
      "cell_type": "code",
      "execution_count": 11,
      "metadata": {
        "id": "rF0pfQJe7vnP",
        "colab": {
          "base_uri": "https://localhost:8080/"
        },
        "outputId": "f25fb823-ba32-4406-ab60-5d94a2b22623"
      },
      "outputs": [
        {
          "output_type": "stream",
          "name": "stdout",
          "text": [
            "🤝 MARL Example: Parameter Sharing with Vectorization (Pattern 1)\n",
            "==================================================\n",
            "Created 4 environments (one per agent in a SINGLE game)\n",
            "Each agent observes: (10,)\n",
            "\n",
            "Training shared policy across all agents simultaneously...\n",
            "✅ This is basic MAPPO - for true parallelization, see Pattern 2 above!\n"
          ]
        }
      ],
      "source": [
        "# Create vectorized environment where each env is a different agent\n",
        "def make_multi_agent_vec_env(n_agents=4):\n",
        "    \"\"\"\n",
        "    Pattern 1: Each 'environment' is a different agent's perspective of ONE game.\n",
        "    This is basic MAPPO - no environment parallelization, just agent parallelization.\n",
        "\n",
        "    Note: We don't use seed+rank here because all agents need to be in\n",
        "    the SAME game instance with consistent random events!\n",
        "    \"\"\"\n",
        "    def make_env(agent_id):\n",
        "        def _init():\n",
        "            # All agents share the same game, just different perspectives\n",
        "            return MultiAgentGridWorld(n_agents=n_agents, agent_id=agent_id)\n",
        "        return _init\n",
        "\n",
        "    return DummyVecEnv([make_env(i) for i in range(n_agents)])\n",
        "\n",
        "print(\"🤝 MARL Example: Parameter Sharing with Vectorization (Pattern 1)\")\n",
        "print(\"=\" * 50)\n",
        "\n",
        "vec_env = make_multi_agent_vec_env(n_agents=4)\n",
        "print(f\"Created {vec_env.num_envs} environments (one per agent in a SINGLE game)\")\n",
        "print(f\"Each agent observes: {vec_env.observation_space.shape}\")\n",
        "\n",
        "# Train shared policy across all agents\n",
        "model = PPO(\"MlpPolicy\", vec_env, verbose=0)\n",
        "print(\"\\nTraining shared policy across all agents simultaneously...\")\n",
        "model.learn(1000)\n",
        "print(\"✅ This is basic MAPPO - for true parallelization, see Pattern 2 above!\")\n",
        "\n",
        "vec_env.close()"
      ]
    },
    {
      "cell_type": "markdown",
      "metadata": {
        "id": "GCCYsjT87vnP"
      },
      "source": [
        "### 🚀 Next Steps\n",
        "- Start using `make_vec_env()` in your projects for easy vectorization\n",
        "- Experiment with different numbers of environments for your specific use case\n",
        "- Profile your environment to choose between DummyVecEnv and SubprocVecEnv\n",
        "- For MARL: Use Pattern 2 (multiple parallel games) for true vectorization benefits\n",
        "- Explore libraries like PettingZoo + SuperSuit for advanced MARL implementations"
      ]
    },
    {
      "cell_type": "markdown",
      "metadata": {
        "id": "rkTOTRAD7vnP"
      },
      "source": [
        "## 📊 MARL Performance Comparison: Pattern 1 vs Pattern 2\n",
        "\n",
        "Let's empirically test the performance difference between the two MARL patterns:"
      ]
    },
    {
      "cell_type": "code",
      "execution_count": 12,
      "metadata": {
        "id": "xI7Ijg-T7vnQ"
      },
      "outputs": [],
      "source": [
        "# Performance comparison of MARL patterns\n",
        "import time\n",
        "import numpy as np\n",
        "\n",
        "# Enhanced MultiAgentGridWorld that supports multiple games\n",
        "class MultiAgentGridWorldV2(gym.Env):\n",
        "    \"\"\"Enhanced version supporting multiple parallel games\"\"\"\n",
        "    # Shared game states for each game_id\n",
        "    game_states = {}\n",
        "\n",
        "    def __init__(self, n_agents=4, grid_size=10, agent_id=0, game_id=0):\n",
        "        super().__init__()\n",
        "        self.n_agents = n_agents\n",
        "        self.grid_size = grid_size\n",
        "        self.agent_id = agent_id\n",
        "        self.game_id = game_id  # Which game instance\n",
        "\n",
        "        self.observation_space = spaces.Box(\n",
        "            low=0, high=grid_size,\n",
        "            shape=(2 + 2 + 2*(n_agents-1),),\n",
        "            dtype=np.float32\n",
        "        )\n",
        "        self.action_space = spaces.Discrete(4)\n",
        "\n",
        "    def reset(self, seed=None):\n",
        "        super().reset(seed=seed)\n",
        "\n",
        "        # Initialize or get game state for this game_id\n",
        "        if self.game_id not in MultiAgentGridWorldV2.game_states or self.agent_id == 0:\n",
        "            MultiAgentGridWorldV2.game_states[self.game_id] = {\n",
        "                'agent_positions': self.np_random.integers(0, self.grid_size,\n",
        "                                                          size=(self.n_agents, 2)),\n",
        "                'goal_positions': self.np_random.integers(0, self.grid_size,\n",
        "                                                         size=(self.n_agents, 2)),\n",
        "                'steps': 0\n",
        "            }\n",
        "\n",
        "        self.game_state = MultiAgentGridWorldV2.game_states[self.game_id]\n",
        "        return self._get_obs(), {}\n",
        "\n",
        "    def _get_obs(self):\n",
        "        obs = []\n",
        "        obs.extend(self.game_state['agent_positions'][self.agent_id])\n",
        "        obs.extend(self.game_state['goal_positions'][self.agent_id])\n",
        "        for i in range(self.n_agents):\n",
        "            if i != self.agent_id:\n",
        "                obs.extend(self.game_state['agent_positions'][i])\n",
        "        return np.array(obs, dtype=np.float32)\n",
        "\n",
        "    def step(self, action):\n",
        "        # Simulate some computation (more realistic)\n",
        "        time.sleep(0.001)  # 1ms per step\n",
        "\n",
        "        moves = [(0, -1), (0, 1), (-1, 0), (1, 0)]\n",
        "        self.game_state['agent_positions'][self.agent_id] += moves[action]\n",
        "        self.game_state['agent_positions'][self.agent_id] = np.clip(\n",
        "            self.game_state['agent_positions'][self.agent_id], 0, self.grid_size-1\n",
        "        )\n",
        "        self.game_state['steps'] += 1\n",
        "\n",
        "        dist = np.linalg.norm(\n",
        "            self.game_state['agent_positions'][self.agent_id] -\n",
        "            self.game_state['goal_positions'][self.agent_id]\n",
        "        )\n",
        "        reward = -dist / self.grid_size + (10.0 if dist < 0.5 else 0)\n",
        "        terminated = self.game_state['steps'] > 100  # Episode limit\n",
        "\n",
        "        return self._get_obs(), reward, terminated, False, {}\n",
        "\n",
        "# Clear any previous game states\n",
        "MultiAgentGridWorldV2.game_states.clear()"
      ]
    },
    {
      "cell_type": "markdown",
      "metadata": {
        "id": "4ciXc2b-zJ23"
      },
      "source": [
        "### Pattern 1: Single Game, Multiple Agents"
      ]
    },
    {
      "cell_type": "code",
      "execution_count": 13,
      "metadata": {
        "id": "ZAAZchOX7vnQ",
        "colab": {
          "base_uri": "https://localhost:8080/"
        },
        "outputId": "f446b33d-d844-456a-a890-ab3ca707cb5d"
      },
      "outputs": [
        {
          "output_type": "stream",
          "name": "stdout",
          "text": [
            "📊 Pattern 1: Single Game, Multiple Agents\n",
            "----------------------------------------\n",
            "Training time: 4.66s\n",
            "Mean reward: -16.01\n",
            "FPS: 429 steps/second\n"
          ]
        }
      ],
      "source": [
        "# Pattern 1: Single game, multiple agents (no parallelization)\n",
        "def make_pattern1_env(n_agents=4):\n",
        "    \"\"\"All agents in ONE game - no environment parallelization\"\"\"\n",
        "    def make_env(agent_id):\n",
        "        def _init():\n",
        "            return MultiAgentGridWorldV2(n_agents=n_agents, agent_id=agent_id, game_id=0)\n",
        "        return _init\n",
        "    return DummyVecEnv([make_env(i) for i in range(n_agents)])\n",
        "\n",
        "# Test Pattern 1\n",
        "print(\"📊 Pattern 1: Single Game, Multiple Agents\")\n",
        "print(\"-\" * 40)\n",
        "pattern1_env = make_pattern1_env(n_agents=4)\n",
        "model1 = PPO(\"MlpPolicy\", pattern1_env, verbose=0, n_steps=32)\n",
        "\n",
        "start = time.time()\n",
        "model1.learn(total_timesteps=2000)\n",
        "pattern1_time = time.time() - start\n",
        "\n",
        "# Evaluate\n",
        "mean_reward1, _ = evaluate_policy(model1, pattern1_env, n_eval_episodes=10)\n",
        "pattern1_env.close()\n",
        "\n",
        "print(f\"Training time: {pattern1_time:.2f}s\")\n",
        "print(f\"Mean reward: {mean_reward1:.2f}\")\n",
        "print(f\"FPS: {2000 / pattern1_time:.0f} steps/second\")"
      ]
    },
    {
      "cell_type": "markdown",
      "metadata": {
        "id": "zr2QUax2zJ23"
      },
      "source": [
        "### Pattern 2: Multiple Games with Multiple Agents"
      ]
    },
    {
      "cell_type": "code",
      "execution_count": 14,
      "metadata": {
        "colab": {
          "base_uri": "https://localhost:8080/"
        },
        "id": "MQyomORlzJ23",
        "outputId": "b66827f9-73c2-4167-93a5-973ab2865a66"
      },
      "outputs": [
        {
          "output_type": "stream",
          "name": "stdout",
          "text": [
            "\n",
            "📊 Pattern 2: Multiple Games (DummyVecEnv)\n",
            "----------------------------------------\n",
            "Training time: 4.37s\n",
            "Mean reward: -10.93\n",
            "FPS: 458 steps/second\n",
            "Speedup vs Pattern 1: 1.07x\n",
            "\n",
            "📊 Pattern 2: Multiple Games (SubprocVecEnv)\n",
            "----------------------------------------\n",
            "Training time: 2.46s\n",
            "Mean reward: -12.27\n",
            "FPS: 814 steps/second\n",
            "Speedup vs Pattern 1: 1.90x\n"
          ]
        }
      ],
      "source": [
        "# Pattern 2: Multiple games with multiple agents (true parallelization)\n",
        "def make_pattern2_env(n_games=4, n_agents=4, use_subproc=True):\n",
        "    \"\"\"Multiple parallel games, each with multiple agents\"\"\"\n",
        "    env_fns = []\n",
        "    for game_id in range(n_games):\n",
        "        for agent_id in range(n_agents):\n",
        "            def make_env(gid=game_id, aid=agent_id):\n",
        "                def _init():\n",
        "                    env = MultiAgentGridWorldV2(\n",
        "                        n_agents=n_agents,\n",
        "                        agent_id=aid,\n",
        "                        game_id=gid\n",
        "                    )\n",
        "                    env.reset(seed=42 + gid)  # Different seed per game!\n",
        "                    return env\n",
        "                return _init\n",
        "            env_fns.append(make_env())\n",
        "\n",
        "    if use_subproc:\n",
        "        return SubprocVecEnv(env_fns, start_method='spawn')\n",
        "    else:\n",
        "        return DummyVecEnv(env_fns)\n",
        "\n",
        "# Test Pattern 2 with DummyVecEnv\n",
        "print(\"\\n📊 Pattern 2: Multiple Games (DummyVecEnv)\")\n",
        "print(\"-\" * 40)\n",
        "MultiAgentGridWorldV2.game_states.clear()\n",
        "pattern2_dummy = make_pattern2_env(n_games=4, n_agents=4, use_subproc=False)\n",
        "model2_dummy = PPO(\"MlpPolicy\", pattern2_dummy, verbose=0, n_steps=32)\n",
        "\n",
        "start = time.time()\n",
        "model2_dummy.learn(total_timesteps=2000)\n",
        "pattern2_dummy_time = time.time() - start\n",
        "\n",
        "mean_reward2_dummy, _ = evaluate_policy(model2_dummy, pattern2_dummy, n_eval_episodes=10)\n",
        "pattern2_dummy.close()\n",
        "\n",
        "print(f\"Training time: {pattern2_dummy_time:.2f}s\")\n",
        "print(f\"Mean reward: {mean_reward2_dummy:.2f}\")\n",
        "print(f\"FPS: {2000 / pattern2_dummy_time:.0f} steps/second\")\n",
        "print(f\"Speedup vs Pattern 1: {pattern1_time / pattern2_dummy_time:.2f}x\")\n",
        "\n",
        "# Test Pattern 2 with SubprocVecEnv\n",
        "print(\"\\n📊 Pattern 2: Multiple Games (SubprocVecEnv)\")\n",
        "print(\"-\" * 40)\n",
        "MultiAgentGridWorldV2.game_states.clear()\n",
        "pattern2_subproc = make_pattern2_env(n_games=4, n_agents=4, use_subproc=True)\n",
        "model2_subproc = PPO(\"MlpPolicy\", pattern2_subproc, verbose=0, n_steps=32)\n",
        "\n",
        "start = time.time()\n",
        "model2_subproc.learn(total_timesteps=2000)\n",
        "pattern2_subproc_time = time.time() - start\n",
        "\n",
        "mean_reward2_subproc, _ = evaluate_policy(model2_subproc, pattern2_subproc, n_eval_episodes=10)\n",
        "pattern2_subproc.close()\n",
        "\n",
        "print(f\"Training time: {pattern2_subproc_time:.2f}s\")\n",
        "print(f\"Mean reward: {mean_reward2_subproc:.2f}\")\n",
        "print(f\"FPS: {2000 / pattern2_subproc_time:.0f} steps/second\")\n",
        "print(f\"Speedup vs Pattern 1: {pattern1_time / pattern2_subproc_time:.2f}x\")"
      ]
    },
    {
      "cell_type": "markdown",
      "metadata": {
        "id": "p6LSH9NL7vnR"
      },
      "source": [
        "### 🎯 Key Insights from MARL Performance Comparison\n",
        "\n",
        "1. **Pattern 1 limitations**: Only 4 \"environments\" (one per agent), no game parallelization\n",
        "2. **Pattern 2 with DummyVecEnv**: Still sequential but processes 16 environments (4 games × 4 agents)\n",
        "3. **Pattern 2 with SubprocVecEnv**: True parallelization across multiple CPU cores\n",
        "4. **Learning benefits**: More diverse experiences from multiple games lead to better policies"
      ]
    },
    {
      "cell_type": "markdown",
      "metadata": {
        "id": "jyYENsSS7vnR"
      },
      "source": [
        "## 🔧 QMIX Implementation Example\n",
        "\n",
        "QMIX (Monotonic Value Function Factorisation) is a popular MARL algorithm that combines decentralized policies with centralized training. Here's a simplified but functional implementation:"
      ]
    },
    {
      "cell_type": "code",
      "execution_count": 15,
      "metadata": {
        "id": "ZMibi27b7vnR",
        "colab": {
          "base_uri": "https://localhost:8080/"
        },
        "outputId": "72162953-6715-4e34-a376-155e362ef52b"
      },
      "outputs": [
        {
          "output_type": "stream",
          "name": "stdout",
          "text": [
            "🎮 QMIX Implementation with Vectorized Environments\n",
            "============================================================\n",
            "Created 4 agent Q-networks\n",
            "Created QMIX mixing network\n",
            "Global state dimension: 16\n",
            "\n",
            "📊 Example Forward Pass:\n",
            "Individual Q-values shape: torch.Size([2, 4, 4])\n",
            "Max Q per agent shape: torch.Size([2, 4])\n",
            "Mixed Q-value shape: torch.Size([2, 1])\n",
            "\n",
            "Example mixed Q-values: [[3.2795317]\n",
            " [6.628668 ]]\n"
          ]
        }
      ],
      "source": [
        "# Actual QMIX implementation (simplified)\n",
        "import torch\n",
        "import torch.nn as nn\n",
        "import torch.nn.functional as F\n",
        "\n",
        "class QMIXNetwork(nn.Module):\n",
        "    \"\"\"Simplified QMIX mixing network\"\"\"\n",
        "    def __init__(self, n_agents, state_dim, mixing_embed_dim=32):\n",
        "        super().__init__()\n",
        "        self.n_agents = n_agents\n",
        "\n",
        "        # Hypernetworks that generate weights for mixing network\n",
        "        self.hyper_w1 = nn.Linear(state_dim, n_agents * mixing_embed_dim)\n",
        "        self.hyper_w2 = nn.Linear(state_dim, mixing_embed_dim * 1)\n",
        "\n",
        "        # Hypernetworks for biases\n",
        "        self.hyper_b1 = nn.Linear(state_dim, mixing_embed_dim)\n",
        "        self.hyper_b2 = nn.Sequential(\n",
        "            nn.Linear(state_dim, mixing_embed_dim),\n",
        "            nn.ReLU(),\n",
        "            nn.Linear(mixing_embed_dim, 1)\n",
        "        )\n",
        "\n",
        "    def forward(self, agent_q_values, global_state):\n",
        "        \"\"\"\n",
        "        Mix individual Q-values into a global Q-value\n",
        "        agent_q_values: [batch_size, n_agents]\n",
        "        global_state: [batch_size, state_dim]\n",
        "        \"\"\"\n",
        "        batch_size = agent_q_values.size(0)\n",
        "\n",
        "        # Generate mixing network weights\n",
        "        w1 = torch.abs(self.hyper_w1(global_state))  # Ensure non-negative\n",
        "        w1 = w1.view(batch_size, self.n_agents, -1)\n",
        "        b1 = self.hyper_b1(global_state).view(batch_size, 1, -1)\n",
        "\n",
        "        # First layer\n",
        "        hidden = F.elu(\n",
        "            torch.bmm(agent_q_values.unsqueeze(1), w1) + b1\n",
        "        )\n",
        "\n",
        "        # Second layer\n",
        "        w2 = torch.abs(self.hyper_w2(global_state)).view(batch_size, -1, 1)\n",
        "        b2 = self.hyper_b2(global_state).view(batch_size, 1, 1)\n",
        "\n",
        "        # Output global Q-value\n",
        "        q_total = torch.bmm(hidden, w2) + b2\n",
        "        return q_total.squeeze(-1)\n",
        "\n",
        "class SimpleQNetwork(nn.Module):\n",
        "    \"\"\"Simple Q-network for individual agents\"\"\"\n",
        "    def __init__(self, obs_dim, n_actions, hidden_dim=64):\n",
        "        super().__init__()\n",
        "        self.fc1 = nn.Linear(obs_dim, hidden_dim)\n",
        "        self.fc2 = nn.Linear(hidden_dim, hidden_dim)\n",
        "        self.fc3 = nn.Linear(hidden_dim, n_actions)\n",
        "\n",
        "    def forward(self, obs):\n",
        "        x = F.relu(self.fc1(obs))\n",
        "        x = F.relu(self.fc2(x))\n",
        "        return self.fc3(x)\n",
        "\n",
        "# Demonstration of QMIX with vectorized environments\n",
        "print(\"🎮 QMIX Implementation with Vectorized Environments\")\n",
        "print(\"=\" * 60)\n",
        "\n",
        "# Create a MARL environment with global state access\n",
        "class MARLEnvWithGlobalState(MultiAgentGridWorldV2):\n",
        "    \"\"\"Extended environment that provides global state\"\"\"\n",
        "    def __init__(self, *args, **kwargs):\n",
        "        super().__init__(*args, **kwargs)\n",
        "        # Global state includes all agent positions and goals\n",
        "        self.global_state_dim = 2 * self.n_agents + 2 * self.n_agents\n",
        "\n",
        "    def get_global_state(self):\n",
        "        \"\"\"Return flattened global state\"\"\"\n",
        "        state = []\n",
        "        for i in range(self.n_agents):\n",
        "            state.extend(self.game_state['agent_positions'][i])\n",
        "        for i in range(self.n_agents):\n",
        "            state.extend(self.game_state['goal_positions'][i])\n",
        "        return np.array(state, dtype=np.float32)\n",
        "\n",
        "# Setup QMIX components\n",
        "n_agents = 4\n",
        "n_games = 2\n",
        "obs_dim = 10  # From environment\n",
        "n_actions = 4\n",
        "global_state_dim = n_agents * 2 + n_agents * 2\n",
        "\n",
        "# Create networks\n",
        "agent_networks = [SimpleQNetwork(obs_dim, n_actions) for _ in range(n_agents)]\n",
        "mixing_network = QMIXNetwork(n_agents, global_state_dim)\n",
        "\n",
        "print(f\"Created {n_agents} agent Q-networks\")\n",
        "print(f\"Created QMIX mixing network\")\n",
        "print(f\"Global state dimension: {global_state_dim}\")\n",
        "\n",
        "# Demonstrate forward pass\n",
        "print(\"\\n📊 Example Forward Pass:\")\n",
        "\n",
        "# Create dummy batch data\n",
        "batch_size = n_games\n",
        "dummy_obs = torch.randn(batch_size, n_agents, obs_dim)\n",
        "dummy_global_state = torch.randn(batch_size, global_state_dim)\n",
        "\n",
        "# Get individual Q-values\n",
        "agent_q_values = []\n",
        "for i in range(n_agents):\n",
        "    q_vals = agent_networks[i](dummy_obs[:, i, :])\n",
        "    agent_q_values.append(q_vals)\n",
        "\n",
        "# Stack and get max Q-values per agent\n",
        "stacked_q = torch.stack(agent_q_values, dim=1)  # [batch, n_agents, n_actions]\n",
        "max_q_per_agent = stacked_q.max(dim=-1)[0]  # [batch, n_agents]\n",
        "\n",
        "# Mix Q-values\n",
        "total_q = mixing_network(max_q_per_agent, dummy_global_state)\n",
        "\n",
        "print(f\"Individual Q-values shape: {stacked_q.shape}\")\n",
        "print(f\"Max Q per agent shape: {max_q_per_agent.shape}\")\n",
        "print(f\"Mixed Q-value shape: {total_q.shape}\")\n",
        "print(f\"\\nExample mixed Q-values: {total_q.detach().numpy()}\")"
      ]
    },
    {
      "cell_type": "markdown",
      "metadata": {
        "id": "wXZqR65BzJ3A"
      },
      "source": [
        "### QMIX Training Loop Pattern"
      ]
    },
    {
      "cell_type": "code",
      "execution_count": 16,
      "metadata": {
        "colab": {
          "base_uri": "https://localhost:8080/"
        },
        "id": "4IFKKybAzJ3B",
        "outputId": "0d73fc4c-1391-4f67-9d41-3fc3c4f8fcc9"
      },
      "outputs": [
        {
          "output_type": "stream",
          "name": "stdout",
          "text": [
            "\n",
            "🚀 QMIX Environment Setup:\n",
            "Total environments: 8\n",
            "Environment shape: 2 games × 4 agents\n",
            "\n",
            "Observations shape: (8, 10) → reshaped to (2, 4, 10)\n",
            "Global states shape: (2, 16)\n"
          ]
        }
      ],
      "source": [
        "# QMIX-specific vectorized environment setup\n",
        "def make_qmix_env(n_parallel_games=4, n_agents=4):\n",
        "    \"\"\"Create vectorized environments for QMIX training\"\"\"\n",
        "    env_fns = []\n",
        "    for game_id in range(n_parallel_games):\n",
        "        for agent_id in range(n_agents):\n",
        "            def make_env(gid=game_id, aid=agent_id):\n",
        "                def _init():\n",
        "                    return MARLEnvWithGlobalState(\n",
        "                        game_id=gid,\n",
        "                        agent_id=aid,\n",
        "                        n_agents=n_agents\n",
        "                    )\n",
        "                return _init\n",
        "            env_fns.append(make_env())\n",
        "    return DummyVecEnv(env_fns)  # Total: n_games × n_agents environments\n",
        "\n",
        "# Create QMIX environment\n",
        "qmix_env = make_qmix_env(n_parallel_games=2, n_agents=4)\n",
        "print(\"\\n🚀 QMIX Environment Setup:\")\n",
        "print(f\"Total environments: {qmix_env.num_envs}\")\n",
        "print(f\"Environment shape: {n_games} games × {n_agents} agents\")\n",
        "\n",
        "# Example data collection step\n",
        "obs = qmix_env.reset()\n",
        "obs_reshaped = obs.reshape(n_games, n_agents, -1)\n",
        "print(f\"\\nObservations shape: {obs.shape} → reshaped to {obs_reshaped.shape}\")\n",
        "\n",
        "# Get global states (would be done inside environment step)\n",
        "global_states = []\n",
        "for i in range(0, qmix_env.num_envs, n_agents):\n",
        "    # Get global state from first agent of each game\n",
        "    global_state = qmix_env.envs[i].get_global_state()\n",
        "    global_states.append(global_state)\n",
        "global_states = np.stack(global_states)\n",
        "print(f\"Global states shape: {global_states.shape}\")\n",
        "\n",
        "qmix_env.close()"
      ]
    },
    {
      "cell_type": "markdown",
      "metadata": {
        "id": "0IWpS0Qd7vnS"
      },
      "source": [
        "### Key QMIX Requirements for Vectorized Environments\n",
        "\n",
        "1. **Access to global state** (not just local observations)\n",
        "2. **Synchronized agent actions** within each game\n",
        "3. **Ability to reshape** between [n_envs] and [n_games, n_agents]\n",
        "4. **Separate Q-networks** per agent but shared mixing network\n",
        "\n",
        "### QMIX Benefits from Pattern 2 Vectorization\n",
        "\n",
        "- Multiple parallel games for diverse experience\n",
        "- Efficient batch processing of mixing network\n",
        "- Better exploration through game diversity\n",
        "- Scales to hundreds of parallel games in practice"
      ]
    },
    {
      "cell_type": "markdown",
      "metadata": {
        "id": "dWbAs040zJ3B"
      },
      "source": [
        "## 📈 Summary: MARL Vectorization Best Practices\n",
        "\n",
        "1. **Use Pattern 2 (multiple parallel games) for production MARL**\n",
        "   - Provides true environment parallelization\n",
        "   - Better exploration through game diversity\n",
        "   - Scales to thousands of parallel games\n",
        "\n",
        "2. **DummyVecEnv is truly sequential**\n",
        "   - No CPU parallelism, just a convenient API\n",
        "   - Still useful for lightweight environments\n",
        "   - Good for debugging before moving to SubprocVecEnv\n",
        "\n",
        "3. **MARL algorithms like QMIX require specific environment features**\n",
        "   - Global state access\n",
        "   - Synchronized stepping within games\n",
        "   - Ability to reshape observations\n",
        "\n",
        "4. **Seeding strategy depends on your pattern**\n",
        "   - Pattern 1: Same seed for all agents (one game)\n",
        "   - Pattern 2: Different seeds per game, same seed within game\n",
        "\n",
        "5. **Real-world MARL projects use Pattern 2 exclusively**\n",
        "   - OpenAI Five, AlphaStar, Hide & Seek all use parallel games\n",
        "   - Essential for sample efficiency at scale"
      ]
    }
  ],
  "metadata": {
    "colab": {
      "provenance": [],
      "include_colab_link": true
    },
    "kernelspec": {
      "display_name": "Python 3",
      "name": "python3"
    }
  },
  "nbformat": 4,
  "nbformat_minor": 0
}